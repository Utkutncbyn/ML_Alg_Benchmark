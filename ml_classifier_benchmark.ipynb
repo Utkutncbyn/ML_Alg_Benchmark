{
 "cells": [
  {
   "cell_type": "code",
   "execution_count": 30,
   "metadata": {},
   "outputs": [],
   "source": [
    "import pandas as pd"
   ]
  },
  {
   "cell_type": "code",
   "execution_count": 31,
   "metadata": {},
   "outputs": [],
   "source": [
    "data = pd.read_csv(r'C:\\Users\\Utkut\\OneDrive\\Masaüstü\\Coding\\Python\\Machine Learning\\Regression\\Data\\veriler.csv')\n",
    "\n",
    "x = data.iloc[:,1:4]\n",
    "y = data.iloc[:,4:]\n",
    "\n",
    "X = x.values\n",
    "Y= y.values"
   ]
  },
  {
   "cell_type": "code",
   "execution_count": 32,
   "metadata": {},
   "outputs": [],
   "source": [
    "from sklearn.model_selection import train_test_split\n",
    "\n",
    "x_train,x_test,y_train,y_test = train_test_split(X,Y,test_size=0.33,random_state=0)"
   ]
  },
  {
   "cell_type": "code",
   "execution_count": 33,
   "metadata": {},
   "outputs": [],
   "source": [
    "from sklearn.preprocessing import StandardScaler\n",
    "\n",
    "sc = StandardScaler()\n",
    "\n",
    "x_train = sc.fit_transform(x_train)\n",
    "x_test = sc.transform(x_test)"
   ]
  },
  {
   "cell_type": "code",
   "execution_count": 34,
   "metadata": {},
   "outputs": [],
   "source": [
    "from sklearn.linear_model import LogisticRegression\n",
    "from sklearn.neighbors import KNeighborsClassifier\n",
    "from sklearn.svm import SVC\n",
    "from sklearn.naive_bayes import GaussianNB\n",
    "from sklearn.tree import DecisionTreeClassifier\n",
    "from sklearn.ensemble import RandomForestClassifier\n",
    "\n",
    "log_reg = LogisticRegression(random_state=0)\n",
    "knn = KNeighborsClassifier(n_neighbors=5,metric='minkowski')\n",
    "svc = SVC(kernel='rbf')\n",
    "gnb = GaussianNB()\n",
    "dtc = DecisionTreeClassifier(criterion='entropy')\n",
    "rfc = RandomForestClassifier(n_estimators=5,criterion='gini')"
   ]
  },
  {
   "cell_type": "code",
   "execution_count": 35,
   "metadata": {},
   "outputs": [],
   "source": [
    "log_reg.fit(x_train,y_train.ravel())\n",
    "knn.fit(x_train,y_train.ravel())\n",
    "svc.fit(x_train,y_train.ravel())\n",
    "gnb.fit(x_train,y_train.ravel())\n",
    "dtc.fit(x_train,y_train.ravel())\n",
    "rfc.fit(x_train,y_train.ravel())\n",
    "\n",
    "log_reg_pred = log_reg.predict(x_test)\n",
    "knn_pred = knn.predict(x_test)\n",
    "svc_pred = svc.predict(x_test)\n",
    "gnb_pred = gnb.predict(x_test)\n",
    "dtc_pred = dtc.predict(x_test)\n",
    "rfc_pred = rfc.predict(x_test)"
   ]
  },
  {
   "cell_type": "code",
   "execution_count": 36,
   "metadata": {},
   "outputs": [
    {
     "name": "stdout",
     "output_type": "stream",
     "text": [
      "Logistic Regression :\n",
      " [[0 1]\n",
      " [7 0]]\n",
      "KNN :\n",
      " [[0 1]\n",
      " [6 1]]\n",
      "SVC :\n",
      " [[1 0]\n",
      " [5 2]]\n",
      "Naive Bayes :\n",
      " [[0 1]\n",
      " [6 1]]\n",
      "Decision Tree :\n",
      " [[1 0]\n",
      " [1 6]]\n",
      "Random Forest :\n",
      " [[1 0]\n",
      " [0 7]]\n",
      "The Best Algorithm for this date set is Random Forest Classifier with 100.0% Accuracy\n"
     ]
    }
   ],
   "source": [
    "from sklearn.metrics import confusion_matrix,accuracy_score\n",
    "\n",
    "cm_log_reg = confusion_matrix(y_test,log_reg_pred)\n",
    "cm_knn = confusion_matrix(y_test,knn_pred)\n",
    "cm_svc = confusion_matrix(y_test,svc_pred)\n",
    "cm_gnb = confusion_matrix(y_test,gnb_pred)\n",
    "cm_dtc = confusion_matrix(y_test,dtc_pred)\n",
    "cm_rfc = confusion_matrix(y_test,rfc_pred)\n",
    "\n",
    "print('Logistic Regression :\\n',cm_log_reg)\n",
    "print('KNN :\\n',cm_knn)\n",
    "print('SVC :\\n',cm_svc)\n",
    "print('Naive Bayes :\\n',cm_gnb)\n",
    "print('Decision Tree :\\n',cm_dtc)\n",
    "print('Random Forest :\\n',cm_rfc)\n",
    "print(f'The Best Algorithm for this date set is Random Forest Classifier with {accuracy_score(y_test,rfc_pred)*100}% Accuracy')"
   ]
  }
 ],
 "metadata": {
  "kernelspec": {
   "display_name": "Python 3",
   "language": "python",
   "name": "python3"
  },
  "language_info": {
   "codemirror_mode": {
    "name": "ipython",
    "version": 3
   },
   "file_extension": ".py",
   "mimetype": "text/x-python",
   "name": "python",
   "nbconvert_exporter": "python",
   "pygments_lexer": "ipython3",
   "version": "3.11.5"
  },
  "orig_nbformat": 4
 },
 "nbformat": 4,
 "nbformat_minor": 2
}
