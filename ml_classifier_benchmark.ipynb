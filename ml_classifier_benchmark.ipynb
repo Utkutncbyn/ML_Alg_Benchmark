{
 "cells": [
  {
   "cell_type": "code",
   "execution_count": 166,
   "metadata": {},
   "outputs": [],
   "source": [
    "import pandas as pd"
   ]
  },
  {
   "cell_type": "code",
   "execution_count": 167,
   "metadata": {},
   "outputs": [
    {
     "name": "stdout",
     "output_type": "stream",
     "text": [
      "   ulke  boy  kilo  yas cinsiyet\n",
      "0    tr  130    30   10        e\n",
      "1    tr  125    36   11        e\n",
      "2    tr  135    34   10        k\n",
      "3    tr  133    30    9        k\n",
      "4    tr  129    38   12        e\n",
      "5    tr  180    90   30        e\n",
      "6    tr  190    80   25        e\n",
      "7    tr  175    90   35        e\n",
      "8    tr  177    60   22        k\n",
      "9    us  185   105   33        e\n",
      "10   us  165    55   27        k\n",
      "11   us  155    50   44        k\n",
      "12   us  160    58   39        k\n",
      "13   us  162    59   41        k\n",
      "14   us  167    62   55        k\n",
      "15   fr  174    70   47        e\n",
      "16   fr  193    90   23        e\n",
      "17   fr  187    80   27        e\n",
      "18   fr  183    88   28        e\n",
      "19   fr  159    40   29        k\n",
      "20   fr  164    66   32        k\n",
      "21   fr  166    56   42        k\n"
     ]
    }
   ],
   "source": [
    "data = pd.read_csv(r'C:\\Users\\Utkut\\OneDrive\\Masaüstü\\Coding\\Python\\Machine Learning\\Regression\\Data\\veriler.csv')\n",
    "print(data)"
   ]
  },
  {
   "cell_type": "code",
   "execution_count": 168,
   "metadata": {},
   "outputs": [],
   "source": [
    "x = data.iloc[:,1:4].values\n",
    "y = data.iloc[:,4:].values"
   ]
  },
  {
   "cell_type": "code",
   "execution_count": 169,
   "metadata": {},
   "outputs": [],
   "source": [
    "from sklearn.model_selection import train_test_split\n",
    "\n",
    "x_train,x_test,y_train,y_test = train_test_split(x,y,test_size=0.33,random_state=0)"
   ]
  },
  {
   "cell_type": "code",
   "execution_count": 170,
   "metadata": {},
   "outputs": [],
   "source": [
    "from sklearn.preprocessing import StandardScaler\n",
    "\n",
    "sc = StandardScaler()\n",
    "\n",
    "x_train = sc.fit_transform(x_train)\n",
    "x_test = sc.transform(x_test)"
   ]
  },
  {
   "cell_type": "code",
   "execution_count": 171,
   "metadata": {},
   "outputs": [],
   "source": [
    "from sklearn.linear_model import LogisticRegression\n",
    "from sklearn.neighbors import KNeighborsClassifier\n",
    "from sklearn.svm import SVC\n",
    "from sklearn.naive_bayes import GaussianNB\n",
    "from sklearn.tree import DecisionTreeClassifier\n",
    "from sklearn.ensemble import RandomForestClassifier\n",
    "\n",
    "log_reg = LogisticRegression(random_state=0)\n",
    "knn = KNeighborsClassifier(n_neighbors=5,metric='minkowski')\n",
    "svc = SVC(kernel='rbf')\n",
    "gnb = GaussianNB()\n",
    "dtc = DecisionTreeClassifier(criterion='entropy')\n",
    "rfc = RandomForestClassifier(n_estimators=5,criterion='gini')"
   ]
  },
  {
   "cell_type": "code",
   "execution_count": 172,
   "metadata": {},
   "outputs": [],
   "source": [
    "log_reg.fit(x_train,y_train.ravel())\n",
    "knn.fit(x_train,y_train.ravel())\n",
    "svc.fit(x_train,y_train.ravel())\n",
    "gnb.fit(x_train,y_train.ravel())\n",
    "dtc.fit(x_train,y_train.ravel())\n",
    "rfc.fit(x_train,y_train.ravel())\n",
    "\n",
    "log_reg_pred = log_reg.predict(x_test)\n",
    "knn_pred = knn.predict(x_test)\n",
    "svc_pred = svc.predict(x_test)\n",
    "gnb_pred = gnb.predict(x_test)\n",
    "dtc_pred = dtc.predict(x_test)\n",
    "rfc_pred = rfc.predict(x_test)\n",
    "\n",
    "rfc_proba = rfc.predict_proba(x_test)"
   ]
  },
  {
   "cell_type": "code",
   "execution_count": 173,
   "metadata": {},
   "outputs": [
    {
     "name": "stdout",
     "output_type": "stream",
     "text": [
      "Logistic Regression :\n",
      " [[0 1]\n",
      " [7 0]]\n",
      "\n",
      "KNN :\n",
      " [[0 1]\n",
      " [6 1]]\n",
      "\n",
      "SVC :\n",
      " [[1 0]\n",
      " [5 2]]\n",
      "\n",
      "Naive Bayes :\n",
      " [[0 1]\n",
      " [6 1]]\n",
      "\n",
      "Decision Tree :\n",
      " [[1 0]\n",
      " [1 6]]\n",
      "\n",
      "Random Forest :\n",
      " [[1 0]\n",
      " [0 7]]\n",
      "\n",
      " [['k']\n",
      " ['k']\n",
      " ['k']\n",
      " ['k']\n",
      " ['e']\n",
      " ['k']\n",
      " ['k']\n",
      " ['k']]\n",
      "\n",
      " [0.2 0.2 0.4 0.2 0.8 0.2 0.4 0.4]\n",
      "\n",
      "The Best Algorithm for this date set is Random Forest Classifier with %100.0 Accuracy\n"
     ]
    }
   ],
   "source": [
    "from sklearn.metrics import confusion_matrix,roc_curve,accuracy_score\n",
    "\n",
    "cm_log_reg = confusion_matrix(y_test,log_reg_pred)\n",
    "cm_knn = confusion_matrix(y_test,knn_pred)\n",
    "cm_svc = confusion_matrix(y_test,svc_pred)\n",
    "cm_gnb = confusion_matrix(y_test,gnb_pred)\n",
    "cm_dtc = confusion_matrix(y_test,dtc_pred)\n",
    "cm_rfc = confusion_matrix(y_test,rfc_pred)\n",
    "\n",
    "fpr,tpr,thold = roc_curve(y_test,rfc_proba[:,0],pos_label='e')\n",
    "\n",
    "\n",
    "print('Logistic Regression :\\n',cm_log_reg)\n",
    "print('\\nKNN :\\n',cm_knn)\n",
    "print('\\nSVC :\\n',cm_svc)\n",
    "print('\\nNaive Bayes :\\n',cm_gnb)\n",
    "print('\\nDecision Tree :\\n',cm_dtc)\n",
    "print('\\nRandom Forest :\\n',cm_rfc)\n",
    "\n",
    "print('\\n',y_test)\n",
    "print('\\n',rfc_proba[:,0])\n",
    "'''\n",
    "print('\\n',fpr)\n",
    "print('\\n',tpr)\n",
    "print('\\n',thold)\n",
    "\n",
    "'''\n",
    "print(f'\\nThe Best Algorithm for this date set is Random Forest Classifier with %{accuracy_score(y_test,rfc_pred)*100} Accuracy')"
   ]
  }
 ],
 "metadata": {
  "kernelspec": {
   "display_name": "Python 3",
   "language": "python",
   "name": "python3"
  },
  "language_info": {
   "codemirror_mode": {
    "name": "ipython",
    "version": 3
   },
   "file_extension": ".py",
   "mimetype": "text/x-python",
   "name": "python",
   "nbconvert_exporter": "python",
   "pygments_lexer": "ipython3",
   "version": "3.11.5"
  },
  "orig_nbformat": 4
 },
 "nbformat": 4,
 "nbformat_minor": 2
}
