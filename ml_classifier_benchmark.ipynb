{
 "cells": [
  {
   "cell_type": "code",
   "execution_count": 9,
   "metadata": {},
   "outputs": [],
   "source": [
    "import pandas as pd"
   ]
  },
  {
   "cell_type": "code",
   "execution_count": 10,
   "metadata": {},
   "outputs": [
    {
     "name": "stdout",
     "output_type": "stream",
     "text": [
      "     sepal length  sepal width  petal length  petal width            iris\n",
      "0             5.1          3.5           1.4          0.2     Iris-setosa\n",
      "1             4.9          3.0           1.4          0.2     Iris-setosa\n",
      "2             4.7          3.2           1.3          0.2     Iris-setosa\n",
      "3             4.6          3.1           1.5          0.2     Iris-setosa\n",
      "4             5.0          3.6           1.4          0.2     Iris-setosa\n",
      "..            ...          ...           ...          ...             ...\n",
      "145           6.7          3.0           5.2          2.3  Iris-virginica\n",
      "146           6.3          2.5           5.0          1.9  Iris-virginica\n",
      "147           6.5          3.0           5.2          2.0  Iris-virginica\n",
      "148           6.2          3.4           5.4          2.3  Iris-virginica\n",
      "149           5.9          3.0           5.1          1.8  Iris-virginica\n",
      "\n",
      "[150 rows x 5 columns]\n"
     ]
    }
   ],
   "source": [
    "data = pd.read_excel(r'C:\\Users\\Utkut\\OneDrive\\Masaüstü\\Coding\\Python\\Machine Learning\\Regression\\Data\\Iris.xls')\n",
    "print(data)"
   ]
  },
  {
   "cell_type": "code",
   "execution_count": 11,
   "metadata": {},
   "outputs": [],
   "source": [
    "x = data.iloc[:,0:4].values\n",
    "y = data.iloc[:,4:].values"
   ]
  },
  {
   "cell_type": "code",
   "execution_count": 12,
   "metadata": {},
   "outputs": [],
   "source": [
    "from sklearn.model_selection import train_test_split\n",
    "\n",
    "x_train,x_test,y_train,y_test = train_test_split(x,y,test_size=0.33,random_state=0)"
   ]
  },
  {
   "cell_type": "code",
   "execution_count": 13,
   "metadata": {},
   "outputs": [],
   "source": [
    "from sklearn.preprocessing import StandardScaler\n",
    "\n",
    "sc = StandardScaler()\n",
    "\n",
    "x_train = sc.fit_transform(x_train)\n",
    "x_test = sc.transform(x_test)"
   ]
  },
  {
   "cell_type": "code",
   "execution_count": 14,
   "metadata": {},
   "outputs": [],
   "source": [
    "from sklearn.linear_model import LogisticRegression\n",
    "from sklearn.neighbors import KNeighborsClassifier\n",
    "from sklearn.svm import SVC\n",
    "from sklearn.naive_bayes import GaussianNB\n",
    "from sklearn.tree import DecisionTreeClassifier\n",
    "from sklearn.ensemble import RandomForestClassifier\n",
    "\n",
    "log_reg = LogisticRegression(random_state=0)\n",
    "knn = KNeighborsClassifier(n_neighbors=5,metric='minkowski')\n",
    "svc = SVC(kernel='rbf')\n",
    "gnb = GaussianNB()\n",
    "dtc = DecisionTreeClassifier(criterion='entropy')\n",
    "rfc = RandomForestClassifier(n_estimators=5,criterion='gini')"
   ]
  },
  {
   "cell_type": "code",
   "execution_count": 15,
   "metadata": {},
   "outputs": [],
   "source": [
    "log_reg.fit(x_train,y_train.ravel())\n",
    "knn.fit(x_train,y_train.ravel())\n",
    "svc.fit(x_train,y_train.ravel())\n",
    "gnb.fit(x_train,y_train.ravel())\n",
    "dtc.fit(x_train,y_train.ravel())\n",
    "rfc.fit(x_train,y_train.ravel())\n",
    "\n",
    "log_reg_pred = log_reg.predict(x_test)\n",
    "knn_pred = knn.predict(x_test)\n",
    "svc_pred = svc.predict(x_test)\n",
    "gnb_pred = gnb.predict(x_test)\n",
    "dtc_pred = dtc.predict(x_test)\n",
    "rfc_pred = rfc.predict(x_test)"
   ]
  },
  {
   "cell_type": "code",
   "execution_count": 16,
   "metadata": {},
   "outputs": [
    {
     "name": "stdout",
     "output_type": "stream",
     "text": [
      "Logistic Regression Accuracy: %94.0\n",
      " [[16  0  0]\n",
      " [ 0 18  1]\n",
      " [ 0  2 13]]\n",
      "\n",
      "KNN Accuracy: %96.0\n",
      " [[16  0  0]\n",
      " [ 0 18  1]\n",
      " [ 0  1 14]]\n",
      "\n",
      "SVC Accuracy: %96.0\n",
      " [[16  0  0]\n",
      " [ 0 18  1]\n",
      " [ 0  1 14]]\n",
      "\n",
      "Naive Bayes Accuracy: %96.0\n",
      " [[16  0  0]\n",
      " [ 0 19  0]\n",
      " [ 0  2 13]]\n",
      "\n",
      "Decision Tree Accuracy: %96.0\n",
      " [[16  0  0]\n",
      " [ 0 18  1]\n",
      " [ 0  1 14]]\n",
      "\n",
      "Random Forest Accuracy: %98.0\n",
      " [[16  0  0]\n",
      " [ 0 18  1]\n",
      " [ 0  0 15]]\n"
     ]
    }
   ],
   "source": [
    "from sklearn.metrics import confusion_matrix,roc_curve,accuracy_score\n",
    "\n",
    "cm_log_reg = confusion_matrix(y_test,log_reg_pred)\n",
    "cm_knn = confusion_matrix(y_test,knn_pred)\n",
    "cm_svc = confusion_matrix(y_test,svc_pred)\n",
    "cm_gnb = confusion_matrix(y_test,gnb_pred)\n",
    "cm_dtc = confusion_matrix(y_test,dtc_pred)\n",
    "cm_rfc = confusion_matrix(y_test,rfc_pred)\n",
    "\n",
    "print(f'Logistic Regression Accuracy: %{accuracy_score(y_test,log_reg_pred)*100}\\n',cm_log_reg)\n",
    "print(f'\\nKNN Accuracy: %{accuracy_score(y_test,knn_pred)*100}\\n',cm_knn)\n",
    "print(f'\\nSVC Accuracy: %{accuracy_score(y_test,svc_pred)*100}\\n',cm_svc)\n",
    "print(f'\\nNaive Bayes Accuracy: %{accuracy_score(y_test,gnb_pred)*100}\\n',cm_gnb)\n",
    "print(f'\\nDecision Tree Accuracy: %{accuracy_score(y_test,dtc_pred)*100}\\n',cm_dtc)\n",
    "print(f'\\nRandom Forest Accuracy: %{accuracy_score(y_test,rfc_pred)*100}\\n',cm_rfc)"
   ]
  }
 ],
 "metadata": {
  "kernelspec": {
   "display_name": "Python 3",
   "language": "python",
   "name": "python3"
  },
  "language_info": {
   "codemirror_mode": {
    "name": "ipython",
    "version": 3
   },
   "file_extension": ".py",
   "mimetype": "text/x-python",
   "name": "python",
   "nbconvert_exporter": "python",
   "pygments_lexer": "ipython3",
   "version": "3.11.5"
  },
  "orig_nbformat": 4
 },
 "nbformat": 4,
 "nbformat_minor": 2
}
